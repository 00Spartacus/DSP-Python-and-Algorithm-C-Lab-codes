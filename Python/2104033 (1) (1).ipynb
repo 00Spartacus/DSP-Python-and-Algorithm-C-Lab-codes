{
  "cells": [
    {
      "cell_type": "code",
      "execution_count": 1,
      "metadata": {
        "colab": {
          "base_uri": "https://localhost:8080/"
        },
        "id": "rle9TZCt5UxP",
        "outputId": "5df3466f-94bc-47cd-a148-a9257ed461f7"
      },
      "outputs": [
        {
          "name": "stdout",
          "output_type": "stream",
          "text": [
            "[1 2 3 4 5 6 7 8 9]\n",
            "x(z) = \n",
            "1 Z^ -4\n",
            "2 Z^ -3\n",
            "3 Z^ -2\n",
            "4 Z^ -1\n",
            "5 Z^ 0\n",
            "6 Z^ 1\n",
            "7 Z^ 2\n",
            "8 Z^ 3\n",
            "9 Z^ 4\n",
            "Z of x1 :  45.0\n",
            "[-1 -2 -3 -4 -5 -6 -7 -8 -9]\n",
            "-1 Z^ -8\n",
            "-2 Z^ -7\n",
            "-3 Z^ -6\n",
            "-4 Z^ -5\n",
            "-5 Z^ -4\n",
            "-6 Z^ -3\n",
            "-7 Z^ -2\n",
            "-8 Z^ -1\n",
            "-9 Z^ 0\n",
            "Z of x2 :  -45\n"
          ]
        }
      ],
      "source": [
        "import numpy as np\n",
        "import scipy.signal as signal\n",
        "import matplotlib.pyplot as plt\n",
        "x1 = np.arange(1,10)\n",
        "print(x1)\n",
        "x2 = -np.arange(1,10)\n",
        "\n",
        "origin_1_pos = 4\n",
        "origin_2_pos = 8\n",
        "z=1\n",
        "print(\"x(z) = \")\n",
        "def ztransform(x, z, origin):\n",
        "  X = 0\n",
        "  for n in range(-origin, -origin + len(x)):\n",
        "    X += x[n] * (z**(-n))\n",
        "    print(f\"{x[origin+n]} Z^ {n}\")\n",
        "  return X\n",
        "print(\"Z of x1 : \",ztransform(x1, z, origin_1_pos))\n",
        "print(x2)\n",
        "print(\"Z of x2 : \",ztransform(x2, z, origin_2_pos))\n",
        "\n"
      ]
    },
    {
      "cell_type": "code",
      "execution_count": null,
      "metadata": {
        "id": "i7yfM3g08Nn7"
      },
      "outputs": [],
      "source": []
    }
  ],
  "metadata": {
    "colab": {
      "provenance": []
    },
    "kernelspec": {
      "display_name": "Python 3",
      "name": "python3"
    },
    "language_info": {
      "codemirror_mode": {
        "name": "ipython",
        "version": 3
      },
      "file_extension": ".py",
      "mimetype": "text/x-python",
      "name": "python",
      "nbconvert_exporter": "python",
      "pygments_lexer": "ipython3",
      "version": "3.11.4"
    }
  },
  "nbformat": 4,
  "nbformat_minor": 0
}
