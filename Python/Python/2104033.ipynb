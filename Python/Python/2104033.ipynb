{
 "cells": [
  {
   "cell_type": "markdown",
   "metadata": {},
   "source": [
    "Lab Code 1"
   ]
  },
  {
   "cell_type": "code",
   "execution_count": null,
   "metadata": {},
   "outputs": [
    {
     "data": {
      "text/plain": [
       "Traceback (most recent call last):\n",
       "  File \"c:\\Users\\ASUS\\.vscode\\extensions\\ms-python.python-2024.22.1-win32-x64\\python_files\\python_server.py\", line 133, in exec_user_input\n",
       "    retval = callable_(user_input, user_globals)\n",
       "             ^^^^^^^^^^^^^^^^^^^^^^^^^^^^^^^^^^^\n",
       "  File \"<string>\", line 45, in <module>\n",
       "AttributeError: module 'matplotlib.pyplot' has no attribute 'xlebel'\n",
       "\n"
      ]
     },
     "metadata": {},
     "output_type": "display_data"
    }
   ],
   "source": [
    "import numpy as np\n",
    "import matplotlib.pyplot as plt\n",
    "\n",
    "# Square Wave Parameters\n",
    "A = 2\n",
    "f = 2 \n",
    "sampling_rate = 100  \n",
    "duration = 1  \n",
    "t = np.arange(0, duration, 1/sampling_rate)\n",
    "\n",
    "# Original Square Wave\n",
    "signal = A*np.sign(np.sin(2*np.pi*f*t)) # square wave\n",
    "\n",
    "# Transformations\n",
    "# 1. Delay by 0.2 seconds\n",
    "t_delay = t - 0.2\n",
    "\n",
    "# 2. Advance by 0.2 seconds\n",
    "t_advance = t + 0.2\n",
    "\n",
    "# 3. Reflect vertically\n",
    "signal_reflect = -signal\n",
    "\n",
    "# 4. Stretch by factor of 2\n",
    "t_stretch = np.linspace(0, 2 * duration, int(sampling_rate * duration), endpoint=False)\n",
    "signal_stretch = A * np.sign(np.sin(2 * np.pi * (f / 2) * t_stretch))\n",
    "\n",
    "# 5. Compress by factor of 2\n",
    "t_compress = np.linspace(0, duration / 2, int(sampling_rate * duration), endpoint=False)\n",
    "signal_compress = A * np.sign(np.sin(2 * np.pi * (2 * f) * t_compress))\n",
    "\n",
    "# Plotting\n",
    "plt.figure(figsize=(13, 8))\n",
    "\n",
    "plt.subplot(3, 2, 1)\n",
    "plt.plot(t, signal)\n",
    "plt.title('Original Signal')\n",
    "plt.xlabel(\"Time (s)\")\n",
    "plt.ylabel(\"Amplitude\")\n",
    "plt.grid()\n",
    "\n",
    "plt.subplot(3, 2, 2)\n",
    "plt.plot(t_delay, signal)\n",
    "plt.title('Delayed (0.2s)')\n",
    "plt.xlabel(\"Time (s)\")\n",
    "plt.ylabel(\"Amplitude\")\n",
    "plt.grid()\n",
    "\n",
    "plt.subplot(3, 2, 3)\n",
    "plt.plot(t_advance, signal)\n",
    "plt.title('Advanced (0.2s)')\n",
    "plt.xlabel(\"Time (s)\")\n",
    "plt.ylabel(\"Amplitude\")\n",
    "plt.grid()\n",
    "\n",
    "plt.subplot(3, 2, 4)\n",
    "plt.plot(t, signal_reflect)\n",
    "plt.title('Reflected Vertically')\n",
    "plt.xlabel(\"Time (s)\")\n",
    "plt.ylabel(\"Amplitude\")\n",
    "plt.grid()\n",
    "\n",
    "plt.subplot(3, 2, 5)\n",
    "plt.plot(t_stretch, signal_stretch)\n",
    "plt.title('Stretched (2x Period)')\n",
    "plt.xlabel(\"Time (s)\")\n",
    "plt.ylabel(\"Amplitude\")\n",
    "plt.grid()\n",
    "\n",
    "plt.subplot(3, 2, 6)\n",
    "plt.plot(t_compress, signal_compress)\n",
    "plt.title('Compressed (0.5x Period)')\n",
    "plt.xlabel(\"Time (s)\")\n",
    "plt.ylabel(\"Amplitude\")\n",
    "plt.grid()\n",
    "\n",
    "plt.tight_layout()\n",
    "plt.show()\n",
    "\n",
    "\n"
   ]
  },
  {
   "cell_type": "markdown",
   "metadata": {},
   "source": [
    "Lab code 2"
   ]
  },
  {
   "cell_type": "code",
   "execution_count": null,
   "metadata": {},
   "outputs": [
    {
     "data": {
      "text/plain": [
       "Traceback (most recent call last):\n",
       "  File \"c:\\Users\\ASUS\\.vscode\\extensions\\ms-python.python-2024.22.1-win32-x64\\python_files\\python_server.py\", line 133, in exec_user_input\n",
       "    retval = callable_(user_input, user_globals)\n",
       "             ^^^^^^^^^^^^^^^^^^^^^^^^^^^^^^^^^^^\n",
       "  File \"<string>\", line 14, in <module>\n",
       "TypeError: stem() got an unexpected keyword argument 'use_line_collection'\n",
       "\n"
      ]
     },
     "metadata": {},
     "output_type": "display_data"
    }
   ],
   "source": [
    "# ID : 2104033\n",
    "import numpy as np\n",
    "import matplotlib.pyplot as plt\n",
    "\n",
    "# Parameters for x(n)\n",
    "Fs = 5000  \n",
    "Fo = [500, 2000, 3000, 4500]  \n",
    "n = np.arange(100)\n",
    "\n",
    "# Part A\n",
    "# Plot x(n) for different frequencies\n",
    "\n",
    "plt.figure(figsize=(11, 8))\n",
    "for idx, f in enumerate(Fo):\n",
    "    xn = 5 * np.sin(2 * np.pi * (f / Fs) * n)\n",
    "    plt.subplot(2, 2, idx + 1)\n",
    "    plt.stem(n, xn, basefmt=\" \")\n",
    "    plt.title(f\"x(n) for F = {f} Hz\")\n",
    "    plt.xlabel(\"n\")\n",
    "    plt.ylabel(\"Amplitude\")\n",
    "    plt.grid(True)\n",
    "plt.tight_layout()\n",
    "plt.show()\n",
    "\n",
    "# Part B\n",
    "# Plot x(n) and y(n) for Fo=2 kHz and Fs=50 kHz\n",
    "\n",
    "Fo = 2000  # Base Frequency \n",
    "Fs2 = 50000  # Sampling frequency \n",
    "n2 = np.arange(100)\n",
    "xn2 = 5 * np.sin(2 * np.pi * (Fo / Fs2) * n2)\n",
    "\n",
    "# y(n) for even samples of x(n)\n",
    "yn = xn2[::2]\n",
    "\n",
    "plt.figure(figsize=(10, 6))\n",
    "# Plotting  x(n)\n",
    "plt.subplot(2, 1, 1)\n",
    "plt.stem(n2, xn2, basefmt=\" \")\n",
    "plt.title(\"1no. x(n) for Fo=2 kHz, Fs=50 kHz\")\n",
    "plt.xlabel(\"n\")\n",
    "plt.ylabel(\"Amplitude\")\n",
    "plt.grid(True)\n",
    "\n",
    "# Plot y(n)\n",
    "plt.subplot(2, 1, 2)\n",
    "plt.stem(n2[::2], yn, basefmt=\" \")\n",
    "plt.title(\"2no. y(n) (even-numbered samples of x(n))\")\n",
    "plt.xlabel(\"n\")\n",
    "plt.ylabel(\"Amplitude\")\n",
    "plt.grid(True)\n",
    "\n",
    "plt.tight_layout()\n",
    "plt.show()"
   ]
  }
 ],
 "metadata": {
  "language_info": {
   "name": "python"
  }
 },
 "nbformat": 4,
 "nbformat_minor": 2
}
